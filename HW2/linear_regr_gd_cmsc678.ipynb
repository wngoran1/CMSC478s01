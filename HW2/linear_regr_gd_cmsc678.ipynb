{
  "cells": [
    {
      "cell_type": "markdown",
      "metadata": {
        "id": "-Htf2f2itQel"
      },
      "source": [
        "# Linear Regression with Gradient Descent"
      ]
    },
    {
      "cell_type": "markdown",
      "metadata": {
        "id": "o1oROqgUtQen"
      },
      "source": [
        "![](figures/adaline-concept.png)"
      ]
    },
    {
      "cell_type": "markdown",
      "metadata": {
        "id": "NEtpLFpdtQen"
      },
      "source": [
        "Note that linear regression and Adaline are very similar. The only difference is that we apply a threshold function for converting the outputs from continuous targets for predictions. The derivative and training procedure are identical to Adaline though. You can compare the two notebooks (this one and `adaline-sgd.ipynb`) side by side as shown below to see the relationship:\n",
        "\n",
        "![](figures/adaline-vs-linreg.png)"
      ]
    },
    {
      "cell_type": "code",
      "execution_count": 17,
      "metadata": {
        "id": "wJ350tgttQeo"
      },
      "outputs": [],
      "source": [
        "import pandas as pd\n",
        "import matplotlib.pyplot as plt\n",
        "import torch\n",
        "%matplotlib inline"
      ]
    },
    {
      "cell_type": "markdown",
      "metadata": {
        "id": "3AQkV4QftQeo"
      },
      "source": [
        "<br>\n",
        "<br>"
      ]
    },
    {
      "cell_type": "markdown",
      "metadata": {
        "id": "67L_IND6tQep"
      },
      "source": [
        "## Load & Prepare a Toy Dataset"
      ]
    },
    {
      "cell_type": "code",
      "execution_count": 13,
      "metadata": {
        "id": "tVfNEFyLtQep",
        "outputId": "373a4741-ec32-4fc3-dbeb-712cfcfc61d7",
        "colab": {
          "base_uri": "https://localhost:8080/",
          "height": 265
        }
      },
      "outputs": [
        {
          "output_type": "display_data",
          "data": {
            "text/plain": [
              "<IPython.core.display.HTML object>"
            ],
            "text/html": [
              "\n",
              "     <input type=\"file\" id=\"files-f99874cb-2f4f-4ebb-8d24-d5f901aad296\" name=\"files[]\" multiple disabled\n",
              "        style=\"border:none\" />\n",
              "     <output id=\"result-f99874cb-2f4f-4ebb-8d24-d5f901aad296\">\n",
              "      Upload widget is only available when the cell has been executed in the\n",
              "      current browser session. Please rerun this cell to enable.\n",
              "      </output>\n",
              "      <script>// Copyright 2017 Google LLC\n",
              "//\n",
              "// Licensed under the Apache License, Version 2.0 (the \"License\");\n",
              "// you may not use this file except in compliance with the License.\n",
              "// You may obtain a copy of the License at\n",
              "//\n",
              "//      http://www.apache.org/licenses/LICENSE-2.0\n",
              "//\n",
              "// Unless required by applicable law or agreed to in writing, software\n",
              "// distributed under the License is distributed on an \"AS IS\" BASIS,\n",
              "// WITHOUT WARRANTIES OR CONDITIONS OF ANY KIND, either express or implied.\n",
              "// See the License for the specific language governing permissions and\n",
              "// limitations under the License.\n",
              "\n",
              "/**\n",
              " * @fileoverview Helpers for google.colab Python module.\n",
              " */\n",
              "(function(scope) {\n",
              "function span(text, styleAttributes = {}) {\n",
              "  const element = document.createElement('span');\n",
              "  element.textContent = text;\n",
              "  for (const key of Object.keys(styleAttributes)) {\n",
              "    element.style[key] = styleAttributes[key];\n",
              "  }\n",
              "  return element;\n",
              "}\n",
              "\n",
              "// Max number of bytes which will be uploaded at a time.\n",
              "const MAX_PAYLOAD_SIZE = 100 * 1024;\n",
              "\n",
              "function _uploadFiles(inputId, outputId) {\n",
              "  const steps = uploadFilesStep(inputId, outputId);\n",
              "  const outputElement = document.getElementById(outputId);\n",
              "  // Cache steps on the outputElement to make it available for the next call\n",
              "  // to uploadFilesContinue from Python.\n",
              "  outputElement.steps = steps;\n",
              "\n",
              "  return _uploadFilesContinue(outputId);\n",
              "}\n",
              "\n",
              "// This is roughly an async generator (not supported in the browser yet),\n",
              "// where there are multiple asynchronous steps and the Python side is going\n",
              "// to poll for completion of each step.\n",
              "// This uses a Promise to block the python side on completion of each step,\n",
              "// then passes the result of the previous step as the input to the next step.\n",
              "function _uploadFilesContinue(outputId) {\n",
              "  const outputElement = document.getElementById(outputId);\n",
              "  const steps = outputElement.steps;\n",
              "\n",
              "  const next = steps.next(outputElement.lastPromiseValue);\n",
              "  return Promise.resolve(next.value.promise).then((value) => {\n",
              "    // Cache the last promise value to make it available to the next\n",
              "    // step of the generator.\n",
              "    outputElement.lastPromiseValue = value;\n",
              "    return next.value.response;\n",
              "  });\n",
              "}\n",
              "\n",
              "/**\n",
              " * Generator function which is called between each async step of the upload\n",
              " * process.\n",
              " * @param {string} inputId Element ID of the input file picker element.\n",
              " * @param {string} outputId Element ID of the output display.\n",
              " * @return {!Iterable<!Object>} Iterable of next steps.\n",
              " */\n",
              "function* uploadFilesStep(inputId, outputId) {\n",
              "  const inputElement = document.getElementById(inputId);\n",
              "  inputElement.disabled = false;\n",
              "\n",
              "  const outputElement = document.getElementById(outputId);\n",
              "  outputElement.innerHTML = '';\n",
              "\n",
              "  const pickedPromise = new Promise((resolve) => {\n",
              "    inputElement.addEventListener('change', (e) => {\n",
              "      resolve(e.target.files);\n",
              "    });\n",
              "  });\n",
              "\n",
              "  const cancel = document.createElement('button');\n",
              "  inputElement.parentElement.appendChild(cancel);\n",
              "  cancel.textContent = 'Cancel upload';\n",
              "  const cancelPromise = new Promise((resolve) => {\n",
              "    cancel.onclick = () => {\n",
              "      resolve(null);\n",
              "    };\n",
              "  });\n",
              "\n",
              "  // Wait for the user to pick the files.\n",
              "  const files = yield {\n",
              "    promise: Promise.race([pickedPromise, cancelPromise]),\n",
              "    response: {\n",
              "      action: 'starting',\n",
              "    }\n",
              "  };\n",
              "\n",
              "  cancel.remove();\n",
              "\n",
              "  // Disable the input element since further picks are not allowed.\n",
              "  inputElement.disabled = true;\n",
              "\n",
              "  if (!files) {\n",
              "    return {\n",
              "      response: {\n",
              "        action: 'complete',\n",
              "      }\n",
              "    };\n",
              "  }\n",
              "\n",
              "  for (const file of files) {\n",
              "    const li = document.createElement('li');\n",
              "    li.append(span(file.name, {fontWeight: 'bold'}));\n",
              "    li.append(span(\n",
              "        `(${file.type || 'n/a'}) - ${file.size} bytes, ` +\n",
              "        `last modified: ${\n",
              "            file.lastModifiedDate ? file.lastModifiedDate.toLocaleDateString() :\n",
              "                                    'n/a'} - `));\n",
              "    const percent = span('0% done');\n",
              "    li.appendChild(percent);\n",
              "\n",
              "    outputElement.appendChild(li);\n",
              "\n",
              "    const fileDataPromise = new Promise((resolve) => {\n",
              "      const reader = new FileReader();\n",
              "      reader.onload = (e) => {\n",
              "        resolve(e.target.result);\n",
              "      };\n",
              "      reader.readAsArrayBuffer(file);\n",
              "    });\n",
              "    // Wait for the data to be ready.\n",
              "    let fileData = yield {\n",
              "      promise: fileDataPromise,\n",
              "      response: {\n",
              "        action: 'continue',\n",
              "      }\n",
              "    };\n",
              "\n",
              "    // Use a chunked sending to avoid message size limits. See b/62115660.\n",
              "    let position = 0;\n",
              "    do {\n",
              "      const length = Math.min(fileData.byteLength - position, MAX_PAYLOAD_SIZE);\n",
              "      const chunk = new Uint8Array(fileData, position, length);\n",
              "      position += length;\n",
              "\n",
              "      const base64 = btoa(String.fromCharCode.apply(null, chunk));\n",
              "      yield {\n",
              "        response: {\n",
              "          action: 'append',\n",
              "          file: file.name,\n",
              "          data: base64,\n",
              "        },\n",
              "      };\n",
              "\n",
              "      let percentDone = fileData.byteLength === 0 ?\n",
              "          100 :\n",
              "          Math.round((position / fileData.byteLength) * 100);\n",
              "      percent.textContent = `${percentDone}% done`;\n",
              "\n",
              "    } while (position < fileData.byteLength);\n",
              "  }\n",
              "\n",
              "  // All done.\n",
              "  yield {\n",
              "    response: {\n",
              "      action: 'complete',\n",
              "    }\n",
              "  };\n",
              "}\n",
              "\n",
              "scope.google = scope.google || {};\n",
              "scope.google.colab = scope.google.colab || {};\n",
              "scope.google.colab._files = {\n",
              "  _uploadFiles,\n",
              "  _uploadFilesContinue,\n",
              "};\n",
              "})(self);\n",
              "</script> "
            ]
          },
          "metadata": {}
        },
        {
          "output_type": "stream",
          "name": "stdout",
          "text": [
            "Saving linreg-data.csv to linreg-data.csv\n"
          ]
        },
        {
          "output_type": "execute_result",
          "data": {
            "text/plain": [
              "     Unnamed: 0        x1        x2          y\n",
              "995         995 -0.942094 -0.835856 -22.324428\n",
              "996         996  1.222445 -0.403177 -52.121493\n",
              "997         997 -0.112466 -1.688230 -57.043196\n",
              "998         998 -0.403459 -0.412272 -27.701833\n",
              "999         999  0.021351 -0.499017  -9.804714"
            ],
            "text/html": [
              "\n",
              "  <div id=\"df-cfa21e5b-08e7-48ed-891d-9efa48336dc9\" class=\"colab-df-container\">\n",
              "    <div>\n",
              "<style scoped>\n",
              "    .dataframe tbody tr th:only-of-type {\n",
              "        vertical-align: middle;\n",
              "    }\n",
              "\n",
              "    .dataframe tbody tr th {\n",
              "        vertical-align: top;\n",
              "    }\n",
              "\n",
              "    .dataframe thead th {\n",
              "        text-align: right;\n",
              "    }\n",
              "</style>\n",
              "<table border=\"1\" class=\"dataframe\">\n",
              "  <thead>\n",
              "    <tr style=\"text-align: right;\">\n",
              "      <th></th>\n",
              "      <th>Unnamed: 0</th>\n",
              "      <th>x1</th>\n",
              "      <th>x2</th>\n",
              "      <th>y</th>\n",
              "    </tr>\n",
              "  </thead>\n",
              "  <tbody>\n",
              "    <tr>\n",
              "      <th>995</th>\n",
              "      <td>995</td>\n",
              "      <td>-0.942094</td>\n",
              "      <td>-0.835856</td>\n",
              "      <td>-22.324428</td>\n",
              "    </tr>\n",
              "    <tr>\n",
              "      <th>996</th>\n",
              "      <td>996</td>\n",
              "      <td>1.222445</td>\n",
              "      <td>-0.403177</td>\n",
              "      <td>-52.121493</td>\n",
              "    </tr>\n",
              "    <tr>\n",
              "      <th>997</th>\n",
              "      <td>997</td>\n",
              "      <td>-0.112466</td>\n",
              "      <td>-1.688230</td>\n",
              "      <td>-57.043196</td>\n",
              "    </tr>\n",
              "    <tr>\n",
              "      <th>998</th>\n",
              "      <td>998</td>\n",
              "      <td>-0.403459</td>\n",
              "      <td>-0.412272</td>\n",
              "      <td>-27.701833</td>\n",
              "    </tr>\n",
              "    <tr>\n",
              "      <th>999</th>\n",
              "      <td>999</td>\n",
              "      <td>0.021351</td>\n",
              "      <td>-0.499017</td>\n",
              "      <td>-9.804714</td>\n",
              "    </tr>\n",
              "  </tbody>\n",
              "</table>\n",
              "</div>\n",
              "    <div class=\"colab-df-buttons\">\n",
              "\n",
              "  <div class=\"colab-df-container\">\n",
              "    <button class=\"colab-df-convert\" onclick=\"convertToInteractive('df-cfa21e5b-08e7-48ed-891d-9efa48336dc9')\"\n",
              "            title=\"Convert this dataframe to an interactive table.\"\n",
              "            style=\"display:none;\">\n",
              "\n",
              "  <svg xmlns=\"http://www.w3.org/2000/svg\" height=\"24px\" viewBox=\"0 -960 960 960\">\n",
              "    <path d=\"M120-120v-720h720v720H120Zm60-500h600v-160H180v160Zm220 220h160v-160H400v160Zm0 220h160v-160H400v160ZM180-400h160v-160H180v160Zm440 0h160v-160H620v160ZM180-180h160v-160H180v160Zm440 0h160v-160H620v160Z\"/>\n",
              "  </svg>\n",
              "    </button>\n",
              "\n",
              "  <style>\n",
              "    .colab-df-container {\n",
              "      display:flex;\n",
              "      gap: 12px;\n",
              "    }\n",
              "\n",
              "    .colab-df-convert {\n",
              "      background-color: #E8F0FE;\n",
              "      border: none;\n",
              "      border-radius: 50%;\n",
              "      cursor: pointer;\n",
              "      display: none;\n",
              "      fill: #1967D2;\n",
              "      height: 32px;\n",
              "      padding: 0 0 0 0;\n",
              "      width: 32px;\n",
              "    }\n",
              "\n",
              "    .colab-df-convert:hover {\n",
              "      background-color: #E2EBFA;\n",
              "      box-shadow: 0px 1px 2px rgba(60, 64, 67, 0.3), 0px 1px 3px 1px rgba(60, 64, 67, 0.15);\n",
              "      fill: #174EA6;\n",
              "    }\n",
              "\n",
              "    .colab-df-buttons div {\n",
              "      margin-bottom: 4px;\n",
              "    }\n",
              "\n",
              "    [theme=dark] .colab-df-convert {\n",
              "      background-color: #3B4455;\n",
              "      fill: #D2E3FC;\n",
              "    }\n",
              "\n",
              "    [theme=dark] .colab-df-convert:hover {\n",
              "      background-color: #434B5C;\n",
              "      box-shadow: 0px 1px 3px 1px rgba(0, 0, 0, 0.15);\n",
              "      filter: drop-shadow(0px 1px 2px rgba(0, 0, 0, 0.3));\n",
              "      fill: #FFFFFF;\n",
              "    }\n",
              "  </style>\n",
              "\n",
              "    <script>\n",
              "      const buttonEl =\n",
              "        document.querySelector('#df-cfa21e5b-08e7-48ed-891d-9efa48336dc9 button.colab-df-convert');\n",
              "      buttonEl.style.display =\n",
              "        google.colab.kernel.accessAllowed ? 'block' : 'none';\n",
              "\n",
              "      async function convertToInteractive(key) {\n",
              "        const element = document.querySelector('#df-cfa21e5b-08e7-48ed-891d-9efa48336dc9');\n",
              "        const dataTable =\n",
              "          await google.colab.kernel.invokeFunction('convertToInteractive',\n",
              "                                                    [key], {});\n",
              "        if (!dataTable) return;\n",
              "\n",
              "        const docLinkHtml = 'Like what you see? Visit the ' +\n",
              "          '<a target=\"_blank\" href=https://colab.research.google.com/notebooks/data_table.ipynb>data table notebook</a>'\n",
              "          + ' to learn more about interactive tables.';\n",
              "        element.innerHTML = '';\n",
              "        dataTable['output_type'] = 'display_data';\n",
              "        await google.colab.output.renderOutput(dataTable, element);\n",
              "        const docLink = document.createElement('div');\n",
              "        docLink.innerHTML = docLinkHtml;\n",
              "        element.appendChild(docLink);\n",
              "      }\n",
              "    </script>\n",
              "  </div>\n",
              "\n",
              "\n",
              "<div id=\"df-1a9c1748-5b69-499c-9b6c-e33b2f0cae9e\">\n",
              "  <button class=\"colab-df-quickchart\" onclick=\"quickchart('df-1a9c1748-5b69-499c-9b6c-e33b2f0cae9e')\"\n",
              "            title=\"Suggest charts\"\n",
              "            style=\"display:none;\">\n",
              "\n",
              "<svg xmlns=\"http://www.w3.org/2000/svg\" height=\"24px\"viewBox=\"0 0 24 24\"\n",
              "     width=\"24px\">\n",
              "    <g>\n",
              "        <path d=\"M19 3H5c-1.1 0-2 .9-2 2v14c0 1.1.9 2 2 2h14c1.1 0 2-.9 2-2V5c0-1.1-.9-2-2-2zM9 17H7v-7h2v7zm4 0h-2V7h2v10zm4 0h-2v-4h2v4z\"/>\n",
              "    </g>\n",
              "</svg>\n",
              "  </button>\n",
              "\n",
              "<style>\n",
              "  .colab-df-quickchart {\n",
              "      --bg-color: #E8F0FE;\n",
              "      --fill-color: #1967D2;\n",
              "      --hover-bg-color: #E2EBFA;\n",
              "      --hover-fill-color: #174EA6;\n",
              "      --disabled-fill-color: #AAA;\n",
              "      --disabled-bg-color: #DDD;\n",
              "  }\n",
              "\n",
              "  [theme=dark] .colab-df-quickchart {\n",
              "      --bg-color: #3B4455;\n",
              "      --fill-color: #D2E3FC;\n",
              "      --hover-bg-color: #434B5C;\n",
              "      --hover-fill-color: #FFFFFF;\n",
              "      --disabled-bg-color: #3B4455;\n",
              "      --disabled-fill-color: #666;\n",
              "  }\n",
              "\n",
              "  .colab-df-quickchart {\n",
              "    background-color: var(--bg-color);\n",
              "    border: none;\n",
              "    border-radius: 50%;\n",
              "    cursor: pointer;\n",
              "    display: none;\n",
              "    fill: var(--fill-color);\n",
              "    height: 32px;\n",
              "    padding: 0;\n",
              "    width: 32px;\n",
              "  }\n",
              "\n",
              "  .colab-df-quickchart:hover {\n",
              "    background-color: var(--hover-bg-color);\n",
              "    box-shadow: 0 1px 2px rgba(60, 64, 67, 0.3), 0 1px 3px 1px rgba(60, 64, 67, 0.15);\n",
              "    fill: var(--button-hover-fill-color);\n",
              "  }\n",
              "\n",
              "  .colab-df-quickchart-complete:disabled,\n",
              "  .colab-df-quickchart-complete:disabled:hover {\n",
              "    background-color: var(--disabled-bg-color);\n",
              "    fill: var(--disabled-fill-color);\n",
              "    box-shadow: none;\n",
              "  }\n",
              "\n",
              "  .colab-df-spinner {\n",
              "    border: 2px solid var(--fill-color);\n",
              "    border-color: transparent;\n",
              "    border-bottom-color: var(--fill-color);\n",
              "    animation:\n",
              "      spin 1s steps(1) infinite;\n",
              "  }\n",
              "\n",
              "  @keyframes spin {\n",
              "    0% {\n",
              "      border-color: transparent;\n",
              "      border-bottom-color: var(--fill-color);\n",
              "      border-left-color: var(--fill-color);\n",
              "    }\n",
              "    20% {\n",
              "      border-color: transparent;\n",
              "      border-left-color: var(--fill-color);\n",
              "      border-top-color: var(--fill-color);\n",
              "    }\n",
              "    30% {\n",
              "      border-color: transparent;\n",
              "      border-left-color: var(--fill-color);\n",
              "      border-top-color: var(--fill-color);\n",
              "      border-right-color: var(--fill-color);\n",
              "    }\n",
              "    40% {\n",
              "      border-color: transparent;\n",
              "      border-right-color: var(--fill-color);\n",
              "      border-top-color: var(--fill-color);\n",
              "    }\n",
              "    60% {\n",
              "      border-color: transparent;\n",
              "      border-right-color: var(--fill-color);\n",
              "    }\n",
              "    80% {\n",
              "      border-color: transparent;\n",
              "      border-right-color: var(--fill-color);\n",
              "      border-bottom-color: var(--fill-color);\n",
              "    }\n",
              "    90% {\n",
              "      border-color: transparent;\n",
              "      border-bottom-color: var(--fill-color);\n",
              "    }\n",
              "  }\n",
              "</style>\n",
              "\n",
              "  <script>\n",
              "    async function quickchart(key) {\n",
              "      const quickchartButtonEl =\n",
              "        document.querySelector('#' + key + ' button');\n",
              "      quickchartButtonEl.disabled = true;  // To prevent multiple clicks.\n",
              "      quickchartButtonEl.classList.add('colab-df-spinner');\n",
              "      try {\n",
              "        const charts = await google.colab.kernel.invokeFunction(\n",
              "            'suggestCharts', [key], {});\n",
              "      } catch (error) {\n",
              "        console.error('Error during call to suggestCharts:', error);\n",
              "      }\n",
              "      quickchartButtonEl.classList.remove('colab-df-spinner');\n",
              "      quickchartButtonEl.classList.add('colab-df-quickchart-complete');\n",
              "    }\n",
              "    (() => {\n",
              "      let quickchartButtonEl =\n",
              "        document.querySelector('#df-1a9c1748-5b69-499c-9b6c-e33b2f0cae9e button');\n",
              "      quickchartButtonEl.style.display =\n",
              "        google.colab.kernel.accessAllowed ? 'block' : 'none';\n",
              "    })();\n",
              "  </script>\n",
              "</div>\n",
              "    </div>\n",
              "  </div>\n"
            ]
          },
          "metadata": {},
          "execution_count": 13
        }
      ],
      "source": [
        "from google.colab import files\n",
        "import io\n",
        "\n",
        "uploaded = files.upload()\n",
        "df = pd.read_csv(io.BytesIO(uploaded['linreg-data.csv']))\n",
        "#df = pd.read_csv('./datasets/linreg-data.csv', index_col=0)\n",
        "df.tail()"
      ]
    },
    {
      "cell_type": "code",
      "source": [
        "df.y.max()"
      ],
      "metadata": {
        "colab": {
          "base_uri": "https://localhost:8080/"
        },
        "id": "PA38ToDXFTI3",
        "outputId": "2fb7716b-9921-4448-81e2-f134889c7413"
      },
      "execution_count": 14,
      "outputs": [
        {
          "output_type": "execute_result",
          "data": {
            "text/plain": [
              "153.9625543"
            ]
          },
          "metadata": {},
          "execution_count": 14
        }
      ]
    },
    {
      "cell_type": "code",
      "source": [
        "df.y.min()"
      ],
      "metadata": {
        "colab": {
          "base_uri": "https://localhost:8080/"
        },
        "id": "7Tfq2UatFVQj",
        "outputId": "881113fe-f26a-4b81-d185-11ab9803be91"
      },
      "execution_count": 15,
      "outputs": [
        {
          "output_type": "execute_result",
          "data": {
            "text/plain": [
              "-143.7168791"
            ]
          },
          "metadata": {},
          "execution_count": 15
        }
      ]
    },
    {
      "cell_type": "code",
      "execution_count": 18,
      "metadata": {
        "id": "1ozL-JlBtQep"
      },
      "outputs": [],
      "source": [
        "# Assign features and target\n",
        "\n",
        "X = torch.tensor(df[['x1', 'x2']].values, dtype=torch.float)\n",
        "y = torch.tensor(df['y'].values, dtype=torch.float)\n",
        "\n",
        "# Shuffling & train/test split\n",
        "\n",
        "torch.manual_seed(123)\n",
        "shuffle_idx = torch.randperm(y.size(0), dtype=torch.long)\n",
        "\n",
        "X, y = X[shuffle_idx], y[shuffle_idx]\n",
        "\n",
        "percent70 = int(shuffle_idx.size(0)*0.7)\n",
        "\n",
        "X_train, X_test = X[shuffle_idx[:percent70]], X[shuffle_idx[percent70:]]\n",
        "y_train, y_test = y[shuffle_idx[:percent70]], y[shuffle_idx[percent70:]]\n",
        "\n",
        "# Normalize (mean zero, unit variance)\n",
        "\n",
        "mu, sigma = X_train.mean(dim=0), X_train.std(dim=0)\n",
        "X_train = (X_train - mu) / sigma\n",
        "X_test = (X_test - mu) / sigma"
      ]
    },
    {
      "cell_type": "code",
      "source": [
        "X_train.mean(dim=0)"
      ],
      "metadata": {
        "colab": {
          "base_uri": "https://localhost:8080/"
        },
        "id": "q41hzYzJQThM",
        "outputId": "f77b996a-42d5-4d69-d8f2-f145677f86eb"
      },
      "execution_count": 21,
      "outputs": [
        {
          "output_type": "execute_result",
          "data": {
            "text/plain": [
              "tensor([-1.0899e-08, -1.6349e-08])"
            ]
          },
          "metadata": {},
          "execution_count": 21
        }
      ]
    },
    {
      "cell_type": "code",
      "source": [
        "X_train"
      ],
      "metadata": {
        "colab": {
          "base_uri": "https://localhost:8080/"
        },
        "id": "d7H1HyymQNMw",
        "outputId": "c7fed22d-aaf8-46f7-db14-0b828d2d7365"
      },
      "execution_count": 19,
      "outputs": [
        {
          "output_type": "execute_result",
          "data": {
            "text/plain": [
              "tensor([[-1.2445,  0.2304],\n",
              "        [ 0.9749, -0.3741],\n",
              "        [ 1.5007,  0.1612],\n",
              "        ...,\n",
              "        [-1.4082, -0.8488],\n",
              "        [-1.0998, -0.5673],\n",
              "        [ 0.6411, -1.6529]])"
            ]
          },
          "metadata": {},
          "execution_count": 19
        }
      ]
    },
    {
      "cell_type": "markdown",
      "metadata": {
        "id": "_07f0i00tQeq"
      },
      "source": [
        "<br>\n",
        "<br>"
      ]
    },
    {
      "cell_type": "markdown",
      "metadata": {
        "id": "Vdw4pv6ntQeq"
      },
      "source": [
        "## Implement Linear Regression Model"
      ]
    },
    {
      "cell_type": "code",
      "execution_count": 22,
      "metadata": {
        "id": "zDZ01LxvtQeq"
      },
      "outputs": [],
      "source": [
        "class LinearRegression1():\n",
        "    def __init__(self, num_features):\n",
        "        self.num_features = num_features\n",
        "        self.weights = torch.zeros(num_features, 1,\n",
        "                                   dtype=torch.float)\n",
        "        self.bias = torch.zeros(1, dtype=torch.float)\n",
        "\n",
        "    def forward(self, x):\n",
        "        netinputs = torch.add(torch.mm(x, self.weights), self.bias)\n",
        "        activations = netinputs\n",
        "        return activations.view(-1)\n",
        "\n",
        "    def backward(self, x, yhat, y):\n",
        "\n",
        "        grad_loss_yhat = 2*(yhat - y) # Real Number. -inf, inf\n",
        "\n",
        "        grad_yhat_weights = x\n",
        "        grad_yhat_bias = 1.\n",
        "\n",
        "        # Chain rule: inner times outer\n",
        "        grad_loss_weights =  torch.mm(grad_yhat_weights.t(),\n",
        "                                         grad_loss_yhat.view(-1, 1)) / y.size(0)\n",
        "\n",
        "        grad_loss_bias = torch.sum(grad_yhat_bias*grad_loss_yhat) / y.size(0)\n",
        "\n",
        "        # return negative gradient\n",
        "        return (-1)*grad_loss_weights, (-1)*grad_loss_bias"
      ]
    },
    {
      "cell_type": "markdown",
      "metadata": {
        "id": "appJCfHxtQeq"
      },
      "source": [
        "<br>\n",
        "<br>"
      ]
    },
    {
      "cell_type": "markdown",
      "metadata": {
        "id": "K7lzW3i8tQeq"
      },
      "source": [
        "## Define Training and Evaluation Functions"
      ]
    },
    {
      "cell_type": "code",
      "execution_count": 23,
      "metadata": {
        "id": "kVrF6LS2tQeq"
      },
      "outputs": [],
      "source": [
        "####################################################\n",
        "##### Training and evaluation wrappers\n",
        "###################################################\n",
        "\n",
        "def loss(yhat, y):\n",
        "    return torch.mean((yhat - y)**2)\n",
        "\n",
        "\n",
        "def train(model, x, y, num_epochs, learning_rate=0.01):\n",
        "    cost = []\n",
        "    for e in range(num_epochs): # 100000\n",
        "\n",
        "        #### Compute outputs ####\n",
        "        yhat = model.forward(x)\n",
        "\n",
        "        #### Compute gradients ####\n",
        "        negative_grad_w, negative_grad_b = model.backward(x, yhat, y)\n",
        "\n",
        "        #### Update weights ####\n",
        "        model.weights += learning_rate * negative_grad_w\n",
        "        model.bias += learning_rate * negative_grad_b\n",
        "\n",
        "        #### Logging ####\n",
        "        yhat = model.forward(x) # not that this is a bit wasteful here\n",
        "        curr_loss = loss(yhat, y)\n",
        "        print('Epoch: %03d' % (e+1), end=\"\")\n",
        "        print(' | MSE: %.5f' % curr_loss)\n",
        "        cost.append(curr_loss)\n",
        "\n",
        "    return cost"
      ]
    },
    {
      "cell_type": "markdown",
      "metadata": {
        "id": "n5hEMrX8tQer"
      },
      "source": [
        "<br>\n",
        "<br>"
      ]
    },
    {
      "cell_type": "markdown",
      "metadata": {
        "id": "hkQ595TGtQer"
      },
      "source": [
        "## Train Linear Regression Model"
      ]
    },
    {
      "cell_type": "code",
      "execution_count": 27,
      "metadata": {
        "id": "wAdAslkjtQer",
        "outputId": "9264d22e-9bb2-403f-cdcb-30d6b4158548",
        "colab": {
          "base_uri": "https://localhost:8080/"
        }
      },
      "outputs": [
        {
          "output_type": "stream",
          "name": "stdout",
          "text": [
            "Epoch: 001 | MSE: 1532.67603\n",
            "Epoch: 002 | MSE: 1312.39856\n",
            "Epoch: 003 | MSE: 1133.91797\n",
            "Epoch: 004 | MSE: 989.30286\n",
            "Epoch: 005 | MSE: 872.12592\n",
            "Epoch: 006 | MSE: 777.18097\n",
            "Epoch: 007 | MSE: 700.24915\n",
            "Epoch: 008 | MSE: 637.91241\n",
            "Epoch: 009 | MSE: 587.40167\n",
            "Epoch: 010 | MSE: 546.47284\n",
            "Epoch: 011 | MSE: 513.30811\n",
            "Epoch: 012 | MSE: 486.43430\n",
            "Epoch: 013 | MSE: 464.65799\n",
            "Epoch: 014 | MSE: 447.01224\n",
            "Epoch: 015 | MSE: 432.71332\n",
            "Epoch: 016 | MSE: 421.12634\n",
            "Epoch: 017 | MSE: 411.73697\n",
            "Epoch: 018 | MSE: 404.12827\n",
            "Epoch: 019 | MSE: 397.96249\n",
            "Epoch: 020 | MSE: 392.96603\n",
            "Epoch: 021 | MSE: 388.91708\n",
            "Epoch: 022 | MSE: 385.63583\n",
            "Epoch: 023 | MSE: 382.97684\n",
            "Epoch: 024 | MSE: 380.82202\n",
            "Epoch: 025 | MSE: 379.07571\n",
            "Epoch: 026 | MSE: 377.66052\n",
            "Epoch: 027 | MSE: 376.51367\n",
            "Epoch: 028 | MSE: 375.58420\n",
            "Epoch: 029 | MSE: 374.83102\n",
            "Epoch: 030 | MSE: 374.22058\n",
            "Epoch: 031 | MSE: 373.72586\n",
            "Epoch: 032 | MSE: 373.32489\n",
            "Epoch: 033 | MSE: 372.99994\n",
            "Epoch: 034 | MSE: 372.73657\n",
            "Epoch: 035 | MSE: 372.52313\n",
            "Epoch: 036 | MSE: 372.35016\n",
            "Epoch: 037 | MSE: 372.20999\n",
            "Epoch: 038 | MSE: 372.09637\n",
            "Epoch: 039 | MSE: 372.00427\n",
            "Epoch: 040 | MSE: 371.92963\n",
            "Epoch: 041 | MSE: 371.86914\n",
            "Epoch: 042 | MSE: 371.82010\n",
            "Epoch: 043 | MSE: 371.78036\n",
            "Epoch: 044 | MSE: 371.74814\n",
            "Epoch: 045 | MSE: 371.72202\n",
            "Epoch: 046 | MSE: 371.70090\n",
            "Epoch: 047 | MSE: 371.68372\n",
            "Epoch: 048 | MSE: 371.66983\n",
            "Epoch: 049 | MSE: 371.65854\n",
            "Epoch: 050 | MSE: 371.64941\n"
          ]
        }
      ],
      "source": [
        "model = LinearRegression1(num_features=X_train.size(1))\n",
        "cost = train(model,\n",
        "             X_train, y_train,\n",
        "             num_epochs=50,\n",
        "             learning_rate=0.05)"
      ]
    },
    {
      "cell_type": "markdown",
      "metadata": {
        "id": "UZGDE2kMtQer"
      },
      "source": [
        "<br>\n",
        "<br>"
      ]
    },
    {
      "cell_type": "markdown",
      "metadata": {
        "id": "5MGMT26etQer"
      },
      "source": [
        "## Evaluate Linear Regression Model"
      ]
    },
    {
      "cell_type": "markdown",
      "metadata": {
        "id": "XJAib1XitQer"
      },
      "source": [
        "### Plot MSE"
      ]
    },
    {
      "cell_type": "code",
      "execution_count": 28,
      "metadata": {
        "colab": {
          "base_uri": "https://localhost:8080/",
          "height": 449
        },
        "id": "OWdj98s1tQes",
        "outputId": "fadaf857-f3e6-4f17-f805-3d9d6703ed56"
      },
      "outputs": [
        {
          "output_type": "display_data",
          "data": {
            "text/plain": [
              "<Figure size 640x480 with 1 Axes>"
            ],
            "image/png": "[encoded data removed]"
          },
          "metadata": {}
        }
      ],
      "source": [
        "plt.plot(range(len(cost)), cost)\n",
        "plt.ylabel('Mean Squared Error')\n",
        "plt.xlabel('Epoch')\n",
        "plt.show()"
      ]
    },
    {
      "cell_type": "code",
      "execution_count": null,
      "metadata": {
        "id": "amlPBDsGtQes"
      },
      "outputs": [],
      "source": [
        "train_pred = model.forward(X_train)\n",
        "test_pred = model.forward(X_test)\n",
        "\n",
        "print('Train MSE: %.5f' % loss(train_pred, y_train))\n",
        "print('Test MSE: %.5f' % loss(test_pred, y_test))"
      ]
    },
    {
      "cell_type": "markdown",
      "metadata": {
        "id": "sY5PMVMItQes"
      },
      "source": [
        "<br>\n",
        "<br>"
      ]
    },
    {
      "cell_type": "markdown",
      "metadata": {
        "id": "OGUOX95QtQes"
      },
      "source": [
        "### Compare with analytical solution"
      ]
    },
    {
      "cell_type": "code",
      "execution_count": 29,
      "metadata": {
        "id": "4cW4Ra5PtQes",
        "colab": {
          "base_uri": "https://localhost:8080/"
        },
        "outputId": "cc71eec1-9a42-4cdc-b763-40dcec6bbd30"
      },
      "outputs": [
        {
          "output_type": "stream",
          "name": "stdout",
          "text": [
            "Weights tensor([[ 0.3466],\n",
            "        [37.6827]])\n",
            "Bias tensor([-0.5436])\n"
          ]
        }
      ],
      "source": [
        "print('Weights', model.weights)\n",
        "print('Bias', model.bias)"
      ]
    },
    {
      "cell_type": "code",
      "source": [
        "!pip install torch"
      ],
      "metadata": {
        "id": "qY9ywRf7vI8G"
      },
      "execution_count": null,
      "outputs": []
    },
    {
      "cell_type": "code",
      "execution_count": null,
      "metadata": {
        "id": "IsakF9BWtQes"
      },
      "outputs": [],
      "source": [
        "def analytical_solution(x, y):\n",
        "    Xb = torch.cat( (torch.ones((x.size(0), 1)), x), dim=1)\n",
        "    w = torch.zeros(x.size(1))\n",
        "    z = torch.inverse(torch.matmul(Xb.t(), Xb))\n",
        "    params = torch.matmul(z, torch.matmul(Xb.t(), y))\n",
        "    b, w = torch.tensor([params[0]]), params[1:].view(x.size(1), 1)\n",
        "    return w, b\n",
        "\n",
        "w, b = analytical_solution(X_train, y_train)\n",
        "print('Analytical weights', w)\n",
        "print('Analytical bias', b)"
      ]
    },
    {
      "cell_type": "markdown",
      "metadata": {
        "id": "eFxIxU2vtQet"
      },
      "source": [
        "<br>\n",
        "<br>"
      ]
    },
    {
      "cell_type": "markdown",
      "metadata": {
        "id": "10ovn-i3tQet"
      },
      "source": [
        "## (Ungraded) HW Exercises"
      ]
    },
    {
      "cell_type": "markdown",
      "metadata": {
        "id": "eubCtqUItQet"
      },
      "source": [
        "Modify the `train()` function such that the dataset is shuffled prior to each epoch. Do you see a difference -- Yes/No? Try to come up with an explanation for your observation.\n",
        "\n"
      ]
    }
  ],
  "metadata": {
    "kernelspec": {
      "display_name": "Python 3",
      "language": "python",
      "name": "python3"
    },
    "language_info": {
      "codemirror_mode": {
        "name": "ipython",
        "version": 3
      },
      "file_extension": ".py",
      "mimetype": "text/x-python",
      "name": "python",
      "nbconvert_exporter": "python",
      "pygments_lexer": "ipython3",
      "version": "3.7.4"
    },
    "colab": {
      "provenance": []
    }
  },
  "nbformat": 4,
  "nbformat_minor": 0
}